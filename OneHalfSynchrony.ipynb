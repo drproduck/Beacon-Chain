{
 "cells": [
  {
   "cell_type": "code",
   "execution_count": 1,
   "metadata": {},
   "outputs": [],
   "source": [
    "import random"
   ]
  },
  {
   "cell_type": "code",
   "execution_count": 2,
   "metadata": {},
   "outputs": [],
   "source": [
    "#form the group\n",
    "x = 33\n",
    "L = 2*x*[0] + 1*x*[1]\n",
    "#shuffle L\n",
    "random.shuffle(L)"
   ]
  },
  {
   "cell_type": "code",
   "execution_count": null,
   "metadata": {},
   "outputs": [],
   "source": [
    "#a slot is 6 seconds long\n",
    "#honest validators attest at 3 or more seconds\n",
    "\n",
    "#Block B is the latest boundary block at the start of the slot\n",
    "#Block A is the newest proposed block\n",
    "\n",
    "#Honest validators win when either block has 2/3 attestations\n",
    "#Honest validators lose when \n",
    "\n",
    "#probability the blo"
   ]
  },
  {
   "cell_type": "code",
   "execution_count": null,
   "metadata": {},
   "outputs": [],
   "source": [
    "#neither block has 0 attestations\n",
    "A = []\n",
    "B = []\n",
    "#A and B are in everyone's view, so we can just go down the line and see who they vote for.\n",
    "for i in L:\n",
    "#if neither of the blocks are winning, let A win with a 1/2 chance.\n",
    "    if (len(A) and len(B)) == 0:\n",
    "        if random.random() > 0.5:\n",
    "            A.append(i)\n",
    "        else:\n",
    "            B.append(i)\n",
    "#if an honest validator sees A is winning\n",
    "    if i == 0 and (len(A) >= len(B)):\n",
    "\t#attest to A\n",
    "        A.append(i)\n",
    "#if a byzantine validator sees A is winning\n",
    "    if i == 1 and (len(A) >= len(B)):\n",
    "\t#attest to the other one out of sheer spite\n",
    "        B.append(i)\n",
    "print(A)\n",
    "print(B)"
   ]
  }
 ],
 "metadata": {
  "kernelspec": {
   "display_name": "Python 3",
   "language": "python",
   "name": "python3"
  },
  "language_info": {
   "codemirror_mode": {
    "name": "ipython",
    "version": 3
   },
   "file_extension": ".py",
   "mimetype": "text/x-python",
   "name": "python",
   "nbconvert_exporter": "python",
   "pygments_lexer": "ipython3",
   "version": "3.6.5"
  }
 },
 "nbformat": 4,
 "nbformat_minor": 2
}
