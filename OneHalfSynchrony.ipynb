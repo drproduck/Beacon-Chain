{
 "cells": [
  {
   "cell_type": "code",
   "execution_count": 1,
   "metadata": {},
   "outputs": [],
   "source": [
    "import random\n",
    "\n",
    "#Cells are formatted in the following way:\n",
    "\n",
    "#Assumptions\n",
    "'Questions to answer or keep in mind'\n",
    "###Description of what's going on\n",
    "#Implementation"
   ]
  },
  {
   "cell_type": "code",
   "execution_count": 2,
   "metadata": {},
   "outputs": [],
   "source": [
    "#Set of validators has 1/3 byzantine and 2/3 honest\n",
    "\n",
    "#form the group\n",
    "x = 33\n",
    "L = 2*x*[0] + 1*x*[1]\n",
    "#shuffle L\n",
    "random.shuffle(L)"
   ]
  },
  {
   "cell_type": "code",
   "execution_count": 16,
   "metadata": {},
   "outputs": [
    {
     "name": "stdout",
     "output_type": "stream",
     "text": [
      "5\n"
     ]
    }
   ],
   "source": [
    "#A slot is 6 seconds long\n",
    "\n",
    "'Q: How do we simulate time moving forward?'\n",
    "'Keep in mind: Once 3 seconds pass in everyones view, all honest validators get to attest'\n",
    "\n",
    "###Honest validators attest at half the slot or later\n",
    "#if 3 or more seconds pass for an honest validator\n",
    "if random.uniform(0,6) >= 3:\n",
    "    #honest validator atttests to block with the highest amount of votes"
   ]
  },
  {
   "cell_type": "code",
   "execution_count": 8,
   "metadata": {},
   "outputs": [],
   "source": [
    "#Block B is the latest boundary block at the start of the slot\n",
    "#Block A is the newest proposed block\n",
    "\n",
    "#Honest validators win when either block has 2/3 attestations\n",
    "#Honest validators lose when neither block has 2/3 attestations after all votes "
   ]
  },
  {
   "cell_type": "code",
   "execution_count": 8,
   "metadata": {},
   "outputs": [
    {
     "data": {
      "text/plain": [
       "3.268101182363814"
      ]
     },
     "execution_count": 8,
     "metadata": {},
     "output_type": "execute_result"
    }
   ],
   "source": [
    "#Block A is not in everyone's view\n",
    "\n",
    "'Q: How do we do this at the same time instead of one validator at a time?'\n",
    "'A: Do it a shitload of times and take the average'\n",
    "\n",
    "###If the block A comes into an honest validator's view and half a slot passes, honest can attest to block A. \n",
    "\n",
    "#probability the block A comes into someone's view\n",
    "#if the chance is more than 0\n",
    "if random.uniform(-1,1) > 0\n",
    "    #One Honest validator sees the block A\n",
    "    \n",
    "###If the block A comes into a Byzantine's view, Byzantine can attest to A at any time. \n",
    "#if the chance is more than 0\n",
    "if random.uniform(-1,1) > 0\n",
    "    #One Byzantine validator sees the block A."
   ]
  },
  {
   "cell_type": "code",
   "execution_count": null,
   "metadata": {},
   "outputs": [],
   "source": [
    "import random\n",
    "\n",
    "###Form the set of validators\n",
    "x = 33\n",
    "#Set of validators has 1/3 byzantine and 2/3 honest\n",
    "L = 2*x*[0] + 1*x*[1]\n",
    "#shuffle L\n",
    "random.shuffle(L)\n",
    "\n",
    "#neither block has 0 attestations\n",
    "A = []\n",
    "B = []\n",
    "\n",
    "#A and B are NOT in everyone's view\n",
    "# We will go down the line and see who they vote for.\n",
    "for i in L:\n",
    "    #if neither of the blocks are winning\n",
    "        #pick a random one to win\n",
    "    #if the validator is honest\n",
    "    if i == 0\n",
    "        #if the probability that block A comes into someone's view is more than 0\n",
    "        if random.uniform(-1,1) > 0\n",
    "            #One Honest validator sees the block A\n",
    "            #if 3 or more seconds pass for an honest validator\n",
    "            if random.uniform(0,6) >= 3:\n",
    "            #honest validator atttests to block with the highest amount of votes\n",
    "                #if an honest validator sees A is winning\n",
    "                if  (len(A) >= len(B)):\n",
    "                    #attest to A\n",
    "                    A.append(i)\n",
    "                else:\n",
    "                    #attest to B.\n",
    "                    B.append(i)\n",
    "#if a byzantine validator sees A is winning\n",
    "    if i == 1 and (len(A) >= len(B)):\n",
    "\t#attest to the other one out of sheer spite\n",
    "        B.append(i)\n",
    "print(A)\n",
    "print(B)"
   ]
  }
 ],
 "metadata": {
  "kernelspec": {
   "display_name": "Python 3",
   "language": "python",
   "name": "python3"
  },
  "language_info": {
   "codemirror_mode": {
    "name": "ipython",
    "version": 3
   },
   "file_extension": ".py",
   "mimetype": "text/x-python",
   "name": "python",
   "nbconvert_exporter": "python",
   "pygments_lexer": "ipython3",
   "version": "3.6.5"
  }
 },
 "nbformat": 4,
 "nbformat_minor": 2
}
